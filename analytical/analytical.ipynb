{
 "cells": [
  {
   "cell_type": "code",
   "execution_count": 6,
   "id": "3ccdf4f5",
   "metadata": {},
   "outputs": [],
   "source": [
    "import numpy as np\n",
    "import matplotlib.pyplot as plt\n",
    "from qiskit.circuit import Parameter, ParameterVector\n",
    "plt.rcParams.update({\"font.size\": 16})  # enlarge matplotlib fonts\n",
    "np.set_printoptions(precision=3, suppress=True)\n",
    "from scipy.linalg import expm\n",
    "from IPython.display import display, Math\n",
    "\n",
    "# Define gates\n",
    "I = np.array([[1, 0],\n",
    "              [0, 1]], dtype=complex)\n",
    "X = np.array([[0, 1],\n",
    "              [1, 0]], dtype=complex)\n",
    "Y = np.array([[0, -1j],\n",
    "              [1j, 0]], dtype=complex)\n",
    "Z = np.array([[1, 0],\n",
    "              [0, -1]], dtype=complex)\n",
    "ket_0 = np.array([[1],\n",
    "                  [0]], dtype=complex)\n",
    "\n",
    "ket_1 = np.array([[0],\n",
    "                  [1]], dtype=complex)"
   ]
  },
  {
   "cell_type": "code",
   "execution_count": null,
   "id": "cd2fab63",
   "metadata": {},
   "outputs": [],
   "source": [
    "# Define gates\n",
    "I = np.array([[1, 0],\n",
    "              [0, 1]], dtype=complex)\n",
    "X = np.array([[0, 1],\n",
    "              [1, 0]], dtype=complex)\n",
    "Y = np.array([[0, -1j],\n",
    "              [1j, 0]], dtype=complex)\n",
    "Z = np.array([[1, 0],\n",
    "              [0, -1]], dtype=complex)\n",
    "ket_0 = np.array([[1],\n",
    "                  [0]], dtype=complex)\n",
    "\n",
    "ket_1 = np.array([[0],\n",
    "                  [1]], dtype=complex)\n",
    "\n",
    "initial_state_bell = (1/np.sqrt(2))*np.kron(ket_0,ket_0) + (1/np.sqrt(2))*np.kron(ket_1,ket_1)\n",
    "initial_state_10 = np.kron(ket_1,ket_0)\n",
    "# Parameters\n",
    "eps = 0\n",
    "t = 0\n",
    "delta = 0\n",
    "time = 0.5\n",
    "\n",
    "# Hamiltonian\n",
    "H_analytical = (eps/2)*(np.kron(I, I) - np.kron(I, Z)) \\\n",
    "  + (eps/2)*(np.kron(I, I) - np.kron(Z, I)) \\\n",
    "  + ((t+delta)/2)*np.kron(X, X) \\\n",
    "  + ((t-delta)/2)*np.kron(Y, Y) \\\n",
    "\n",
    "U_analytical = expm(-1.0j * H_analytical * time)\n",
    "\n",
    "final_state_10 = U_analytical @ initial_state_10\n",
    "final_state_bell = U_analytical @ initial_state_bell\n",
    "\n",
    "\n",
    "n_is1 = (1/2)*(np.kron(I, I) - np.kron(Z, I))\n",
    "n_is2 = (1/2)*(np.kron(I, I) - np.kron(I, Z))\n",
    "cc_op = (-0.25*np.kron(X,X)-0.25j*np.kron(X,Y)-0.25j*np.kron(Y,X) + 0.25*np.kron(Y,Y))\n",
    "cc_dagger_op = 1/4*(0.25*np.kron(X,X)-0.25j*np.kron(X,Y)-0.25*np.kron(Y,X) -0.25*np.kron(Y,Y))\n",
    "gamma_op = 1j*(np.kron(Z,I))\n",
    "\n",
    "n = (np.abs(final_state_10.conj().T @ n_is1 @ final_state_10))\n",
    "n2 = (np.abs(final_state_10.conj().T @ n_is2 @ final_state_10))\n",
    "c = (np.abs(final_state_10.conj().T @ cc_op @ final_state_10))\n",
    "c_dag = (np.abs(final_state_10.conj().T @ cc_dagger_op @ final_state_10))\n",
    "gamma = (np.abs(final_state_10.conj().T @ gamma_op @ final_state_10))\n",
    "E = (np.abs(final_state_10.conj().T @ H_analytical @ final_state_10))\n",
    "print('ket-10:')\n",
    "print(f'n_1 = {n}, n_2 = {n2}, gamma = {gamma}, cc = {c}, cc_dag = {c_dag}, E = {E}')\n",
    "\n",
    "n = (np.abs(final_state_bell.conj().T @ n_is1 @ final_state_bell))\n",
    "n2 = (np.abs(final_state_bell.conj().T @ n_is2 @ final_state_bell))\n",
    "c = (np.abs(final_state_bell.conj().T @ cc_op @ final_state_bell))\n",
    "c_dag = (np.abs(final_state_bell.conj().T @ cc_dagger_op @ final_state_bell))\n",
    "gamma = (np.abs(final_state_bell.conj().T @ gamma_op @ final_state_bell))\n",
    "E = (np.abs(final_state_bell.conj().T @ H_analytical @ final_state_bell))\n",
    "print('Bell state:')\n",
    "print(f'n_1 = {n}, n_2 = {n2}, gamma = {gamma}, cc = {c}, cc_dag = {c_dag}, E = {E}')\n"
   ]
  },
  {
   "cell_type": "markdown",
   "id": "a13baced",
   "metadata": {},
   "source": [
    "### Analytical"
   ]
  },
  {
   "cell_type": "code",
   "execution_count": 7,
   "id": "ce98e383",
   "metadata": {},
   "outputs": [
    {
     "name": "stdout",
     "output_type": "stream",
     "text": [
      "Matrices a and b do NOT commute.\n",
      "Commutator a@b - b@a is:\n"
     ]
    }
   ],
   "source": [
    "# \\begin{aligned}\n",
    "# H &= \\Delta\\left( Y_1 Y_2 I_3 I_4 \\right) \\\\ YYII and IYYI commute, YYII and IIYY commute, IXXI and YYII do not commute\n",
    "# &+ \\frac{t_c}{2} \\left( I_1 X_2 X_3 I_4 + I_1 Y_2 Y_3 I_4 \\right) \\\\ IXXI and IYYI commute\n",
    "# &+ \\Delta\\left( I_1 I_2 Y_3 Y_4 \\right)  \\; . IIYY and YYII commute, IIYY and IYYI commute, IXXI and IIYY do not commute\n",
    "# \\end{aligned}\n",
    "a = np.kron(np.kron(I,X),np.kron(X,I))\n",
    "b = np.kron(np.kron(I,I),np.kron(Y,Y))\n",
    "\n",
    "# Calculate the commutator\n",
    "commutator = a @ b - b @ a\n",
    "\n",
    "is_commuting = np.allclose(commutator, np.zeros_like(commutator))\n",
    "\n",
    "if is_commuting:\n",
    "    print(\"Matrices a and b commute.\")\n",
    "    print(\"Commutator a@b - b@a is (close to) the zero matrix:\")\n",
    "else:\n",
    "    print(\"Matrices a and b do NOT commute.\")\n",
    "    print(\"Commutator a@b - b@a is:\")"
   ]
  },
  {
   "cell_type": "markdown",
   "id": "86808933",
   "metadata": {},
   "source": [
    "### Qiskit"
   ]
  },
  {
   "cell_type": "code",
   "execution_count": 4,
   "id": "86108f73",
   "metadata": {},
   "outputs": [],
   "source": [
    "from qiskit.opflow import Zero, One, I, X, Y, Z\n",
    "\n",
    "def compute_H(eps, t, delta):\n",
    "    # Build the Hamiltonian using tensor products of Pauli matrices\n",
    "    H = 0\n",
    "    H += eps * (I ^ I)  # I ⊗ I\n",
    "    H -= eps / 2 * (I ^ Z)  # I ⊗ Z\n",
    "    H -= eps / 2 * (Z ^ I)  # Z ⊗ I\n",
    "    H += (t + delta) / 2 * (X ^ X)  # X ⊗ X\n",
    "    H += (t - delta) / 2 * (Y ^ Y)  # Y ⊗ Y\n",
    "    \n",
    "    return H\n",
    "def n_op(num_sites):\n",
    "    n_is = [\n",
    "    1 / 2 * ((I ^ num_sites) - ((I ^ i) ^ Z ^ (I ^ (num_sites - i - 1))))\n",
    "    for i in range(num_sites)\n",
    "    ]\n",
    "    return n_is\n",
    "\n",
    "def cc_nb_op(num_sites, site1, site2):\n",
    "    if abs(site1 - site2) != 1:\n",
    "        raise ValueError('Error: Sites have to be nearest neighbour sites. Use corr_op for other sites.')\n",
    "    sigma_plus = 0.5*(X + 1.0j*Y)\n",
    "    if site1 < site2:\n",
    "        cc_op = [ \n",
    "            (I ^ site1) ^ -sigma_plus ^ sigma_plus ^ (I ^ (num_sites - site1 - 2)) \n",
    "        ]\n",
    "    elif site1 > site2:\n",
    "        cc_op = [\n",
    "            (I ^ site2) ^ sigma_plus ^ sigma_plus ^ (I ^ (num_sites - site2 - 2)) \n",
    "        ]\n",
    "\n",
    "    return cc_op\n",
    "\n",
    "from qiskit_nature.operators.second_quantization import FermionicOp\n",
    "from qiskit_nature.mappers.second_quantization import JordanWignerMapper\n",
    "\n",
    "def compute_H_secondquant(eps, t, delta):\n",
    "    second_quant_H = 0\n",
    "    second_quant_H += (\n",
    "                    FermionicOp(\"+_{}\".format(0)) @ FermionicOp(\"-_{}\".format(0))\n",
    "                    + FermionicOp(\"+_{}\".format(1)) @ FermionicOp(\"-_{}\".format(1))\n",
    "                ) * eps\n",
    "\n",
    "    second_quant_H += (\n",
    "                    FermionicOp(\"+_{}\".format(0)) @ FermionicOp(\"-_{}\".format(1))\n",
    "                    + FermionicOp(\"+_{}\".format(1)) @ FermionicOp(\"-_{}\".format(0))\n",
    "                ) * t\n",
    "    second_quant_H += (\n",
    "                    FermionicOp(\"+_{}\".format(0)) @ FermionicOp(\"+_{}\".format(1))\n",
    "                    + FermionicOp(\"-_{}\".format(1))\n",
    "                    @ FermionicOp(\"-_{}\".format(0))\n",
    "                ) * delta\n",
    "\n",
    "    jw_mapper = JordanWignerMapper\n",
    "    pauli_H = JordanWignerMapper.map(jw_mapper, second_quant_H)\n",
    "    return pauli_H\n",
    "\n",
    "def compute_U(H, t):\n",
    "    U = (H * t).exp_i()  # Apply the time evolution operator\n",
    "    return U\n",
    "\n",
    "# Parameterized hopping strengths\n",
    "eps_param = Parameter(\"ε\")\n",
    "t_param = Parameter(\"t\")\n",
    "delta_param = Parameter(\"Δ\")\n",
    "H_param = compute_H(eps_param, t_param, delta_param)\n",
    "\n",
    "# Select specific tau and tau_d values\n",
    "H = H_param.bind_parameters({eps_param: eps, t_param: t, delta_param: delta})\n",
    "\n",
    "# Initial state |00>\n",
    "initial_state = One ^ Zero#(1 / np.sqrt(2))*(Zero ^ Zero) + (1 / np.sqrt(2))*(One ^ One)\n",
    "\n",
    "# Time evolution operator\n",
    "U_qiskit = compute_U(H, time)\n",
    "\n",
    "# Apply the unitary operator to the initial state\n",
    "final_state = U_qiskit @ initial_state\n",
    "\n",
    "# Example of calculating expectation values (for n_is operator)\n",
    "# Let's assume n_op returns an operator, and you want to calculate the expectation value.\n",
    "n_is = n_op(2)\n",
    "cc_is = cc_nb_op(2,0,1)\n",
    "exp_n = (final_state.adjoint() @ n_is[0] @ final_state).eval()\n",
    "exp_cc = (final_state.adjoint() @ cc_is[0] @ final_state).eval()"
   ]
  },
  {
   "cell_type": "code",
   "execution_count": null,
   "id": "f7bdfcb9",
   "metadata": {},
   "outputs": [
    {
     "data": {
      "text/plain": [
       "[PauliSumOp(SparsePauliOp(['XZX', 'XZY', 'YZX', 'YZY'],\n",
       "               coeffs=[-0.25+0.j  ,  0.  -0.25j,  0.  -0.25j,  0.25+0.j  ]), coeff=1.0)]"
      ]
     },
     "execution_count": 5,
     "metadata": {},
     "output_type": "execute_result"
    }
   ],
   "source": [
    "def cc_edge_op(num_sites, site1, site2):\n",
    "    sigma_plus = 0.5 * (X + 1.0j * Y)\n",
    "    if site1 < site2:\n",
    "        cc_op = [\n",
    "            sigma_plus ^ (Z ^ (num_sites - 2)) ^ -sigma_plus\n",
    "        ]\n",
    "    elif site1 > site2:\n",
    "        cc_op = [\n",
    "            sigma_plus ^ (Z ^ (num_sites - 2)) ^ sigma_plus\n",
    "        ]\n",
    "            \n",
    "    return cc_op\n",
    "\n",
    "cc_edge_op(3, 0, 2)"
   ]
  },
  {
   "cell_type": "markdown",
   "id": "aba6cc59",
   "metadata": {},
   "source": [
    "### Symbolic"
   ]
  },
  {
   "cell_type": "code",
   "execution_count": 26,
   "id": "60873430",
   "metadata": {},
   "outputs": [
    {
     "name": "stdout",
     "output_type": "stream",
     "text": [
      "LaTeX file 'symbolic_H_and_U.tex' written successfully.\n"
     ]
    },
    {
     "data": {
      "text/latex": [
       "$\\displaystyle U(0.5) \\; |10\\rangle:$"
      ],
      "text/plain": [
       "<IPython.core.display.Math object>"
      ]
     },
     "metadata": {},
     "output_type": "display_data"
    },
    {
     "data": {
      "text/latex": [
       "$\\displaystyle U(0.5) \\; \\sqrt0.5|00\\rangle + \\sqrt0.5|11\\rangle:$"
      ],
      "text/plain": [
       "<IPython.core.display.Math object>"
      ]
     },
     "metadata": {},
     "output_type": "display_data"
    },
    {
     "ename": "AttributeError",
     "evalue": "'MutableDenseMatrix' object has no attribute 'conj'",
     "output_type": "error",
     "traceback": [
      "\u001b[0;31m---------------------------------------------------------------------------\u001b[0m",
      "\u001b[0;31mAttributeError\u001b[0m                            Traceback (most recent call last)",
      "Cell \u001b[0;32mIn[26], line 50\u001b[0m\n\u001b[1;32m     47\u001b[0m display(Math(\u001b[38;5;124mrf\u001b[39m\u001b[38;5;124m'\u001b[39m\u001b[38;5;124mU(\u001b[39m\u001b[38;5;132;01m{\u001b[39;00mtime\u001b[38;5;132;01m}\u001b[39;00m\u001b[38;5;124m) \u001b[39m\u001b[38;5;124m\\\u001b[39m\u001b[38;5;124m; \u001b[39m\u001b[38;5;124m\\\u001b[39m\u001b[38;5;124msqrt\u001b[39m\u001b[38;5;132;01m{\u001b[39;00m\u001b[38;5;241m1\u001b[39m\u001b[38;5;241m/\u001b[39m\u001b[38;5;241m2\u001b[39m\u001b[38;5;132;01m}\u001b[39;00m\u001b[38;5;124m|00\u001b[39m\u001b[38;5;124m\\\u001b[39m\u001b[38;5;124mrangle + \u001b[39m\u001b[38;5;124m\\\u001b[39m\u001b[38;5;124msqrt\u001b[39m\u001b[38;5;132;01m{\u001b[39;00m\u001b[38;5;241m1\u001b[39m\u001b[38;5;241m/\u001b[39m\u001b[38;5;241m2\u001b[39m\u001b[38;5;132;01m}\u001b[39;00m\u001b[38;5;124m|11\u001b[39m\u001b[38;5;124m\\\u001b[39m\u001b[38;5;124mrangle:\u001b[39m\u001b[38;5;124m'\u001b[39m))\n\u001b[1;32m     48\u001b[0m final_state_bell \u001b[38;5;241m=\u001b[39m U_matrix \u001b[38;5;241m@\u001b[39m ((\u001b[38;5;241m1\u001b[39m\u001b[38;5;241m/\u001b[39mnp\u001b[38;5;241m.\u001b[39msqrt(\u001b[38;5;241m2\u001b[39m))\u001b[38;5;241m*\u001b[39mnp\u001b[38;5;241m.\u001b[39mkron(ket_0,ket_0) \u001b[38;5;241m+\u001b[39m (\u001b[38;5;241m1\u001b[39m\u001b[38;5;241m/\u001b[39mnp\u001b[38;5;241m.\u001b[39msqrt(\u001b[38;5;241m2\u001b[39m))\u001b[38;5;241m*\u001b[39mnp\u001b[38;5;241m.\u001b[39mkron(ket_1,ket_1))\n\u001b[0;32m---> 50\u001b[0m \u001b[43mfinal_state_bell\u001b[49m\u001b[38;5;241;43m.\u001b[39;49m\u001b[43mconj\u001b[49m()\u001b[38;5;241m.\u001b[39mT \u001b[38;5;241m@\u001b[39m cc_is[\u001b[38;5;241m0\u001b[39m] \u001b[38;5;129m@final_state_bell\u001b[39m\n",
      "\u001b[0;31mAttributeError\u001b[0m: 'MutableDenseMatrix' object has no attribute 'conj'"
     ]
    }
   ],
   "source": [
    "import sympy as sp\n",
    "from sympy.physics.quantum import TensorProduct\n",
    "\n",
    "# Define symbolic parameters\n",
    "eps, t, delta, tau = sp.symbols('varepsilon t t tau')\n",
    "initial_state = np.kron(ket_1,ket_0)# (1/np.sqrt(2))*np.kron(ket_0,ket_0) + (1/np.sqrt(2))*np.kron(ket_1,ket_1)## #\n",
    "\n",
    "# Define Pauli matrices and identity\n",
    "I = sp.eye(2)\n",
    "X = sp.Matrix([[0, 1], [1, 0]])\n",
    "Y = sp.Matrix([[0, -sp.I], [sp.I, 0]])\n",
    "Z = sp.Matrix([[1, 0], [0, -1]])\n",
    "\n",
    "# Define the symbolic Hamiltonian H1\n",
    "H1 = (eps/2)*(TensorProduct(I, I) - TensorProduct(I, Z)) \\\n",
    "   + (eps/2)*(TensorProduct(I, I) - TensorProduct(Z, I)) \\\n",
    "   + ((t + delta)/2)*TensorProduct(X, X) \\\n",
    "   + ((t - delta)/2)*TensorProduct(Y, Y)\n",
    "\n",
    "# Expand to 4x4 matrix\n",
    "H1_matrix = H1.doit()\n",
    "\n",
    "# Define time evolution operator U(tau) = exp(-i H tau)\n",
    "U_matrix = (-sp.I * H1_matrix * tau).exp()\n",
    "\n",
    "n_matrix_1 = (1/2)*(TensorProduct(I, I) - TensorProduct(Z, I))\n",
    "\n",
    "\n",
    "\n",
    "# Convert to LaTeX\n",
    "latex_H = sp.latex(H1_matrix)\n",
    "latex_N = sp.latex(H1_matrix @ n_matrix_1)\n",
    "\n",
    "\n",
    "# Write to a .tex file\n",
    "with open(\"symbolic_H_and_U.tex\", \"w\") as f:\n",
    "    f.write(latex_H + \"\\n\")\n",
    "    f.write(latex_N)\n",
    "\n",
    "print(\"LaTeX file 'symbolic_H_and_U.tex' written successfully.\")\n",
    "\n",
    "initial_state = np.kron(ket_1,ket_0)# (1/np.sqrt(2))*np.kron(ket_0,ket_0) + (1/np.sqrt(2))*np.kron(ket_1,ket_1)## #\n",
    "\n",
    "display(Math(rf'U({time}) \\; |10\\rangle:'))\n",
    "final_state_10 = U_matrix @ np.kron(ket_1,ket_0)\n",
    "\n",
    "display(Math(rf'U({time}) \\; \\sqrt{1/2}|00\\rangle + \\sqrt{1/2}|11\\rangle:'))\n",
    "final_state_bell = U_matrix @ ((1/np.sqrt(2))*np.kron(ket_0,ket_0) + (1/np.sqrt(2))*np.kron(ket_1,ket_1))\n",
    "\n",
    "final_state_bell.conj().T @ cc_is[0] @final_state_bell\n"
   ]
  }
 ],
 "metadata": {
  "kernelspec": {
   "display_name": "article_mzm",
   "language": "python",
   "name": "python3"
  },
  "language_info": {
   "codemirror_mode": {
    "name": "ipython",
    "version": 3
   },
   "file_extension": ".py",
   "mimetype": "text/x-python",
   "name": "python",
   "nbconvert_exporter": "python",
   "pygments_lexer": "ipython3",
   "version": "3.8.18"
  }
 },
 "nbformat": 4,
 "nbformat_minor": 5
}
