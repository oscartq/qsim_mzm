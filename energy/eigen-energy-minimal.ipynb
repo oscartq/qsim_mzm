{
 "cells": [
  {
   "cell_type": "markdown",
   "metadata": {},
   "source": [
    "### Single body formulation"
   ]
  },
  {
   "cell_type": "code",
   "execution_count": null,
   "metadata": {},
   "outputs": [
    {
     "data": {
      "application/vnd.jupyter.widget-view+json": {
       "model_id": "12db62f42caa4f31961041fb71d4ba53",
       "version_major": 2,
       "version_minor": 0
      },
      "text/plain": [
       "VBox(children=(FloatSlider(value=1.0, description='t', max=5.0, min=-5.0, step=1.0), FloatSlider(value=1.0, de…"
      ]
     },
     "metadata": {},
     "output_type": "display_data"
    },
    {
     "data": {
      "application/vnd.jupyter.widget-view+json": {
       "model_id": "62f91a8b3e07468e95f1df740aebbab7",
       "version_major": 2,
       "version_minor": 0
      },
      "text/plain": [
       "Output()"
      ]
     },
     "metadata": {},
     "output_type": "display_data"
    }
   ],
   "source": [
    "import numpy as np\n",
    "import matplotlib.pyplot as plt\n",
    "import ipywidgets as widgets\n",
    "from IPython.display import display, Markdown\n",
    "\n",
    "def hamiltonian(epsilon1, epsilon2, t, Delta):\n",
    "    return np.array([[ epsilon1,   t,       0,    Delta],\n",
    "                     [      t, epsilon2,   -Delta,    0],\n",
    "                     [       0,   -Delta, -epsilon1,    -t],\n",
    "                     [    Delta,      0,      -t, -epsilon2]])\n",
    "\n",
    "def compute_eigensystem(epsilon1, epsilon2, t, Delta):\n",
    "    H = hamiltonian(epsilon1, epsilon2, t, Delta)\n",
    "    eigvals, eigvecs = np.linalg.eig(H)\n",
    "    idx = np.argsort(eigvals)  # Sort eigenvalues and vectors\n",
    "    return np.real(eigvals[idx]), np.real(eigvecs[:, idx])\n",
    "\n",
    "def plot_energy_vs_epsilon(t, Delta):\n",
    "    plt.close('all')  # Close previous figures to avoid duplicate plots\n",
    "\n",
    "    epsilon_vals = np.linspace(-5, 5, 400)\n",
    "    bands = [compute_eigensystem(eps, eps, t, Delta)[0] for eps in epsilon_vals]\n",
    "    bands = np.array(bands)\n",
    "\n",
    "    plt.figure(figsize=(8, 6))\n",
    "    for i in range(bands.shape[1]):\n",
    "        plt.plot(epsilon_vals, bands[:, i], label=fr'$E_{{{i+1}}}$')\n",
    "\n",
    "    # Add t and Δ to legend\n",
    "    plt.plot([], [], ' ', label=fr'$t$ = {t}')\n",
    "    plt.plot([], [], ' ', label=fr'$\\Delta$ = {Delta}')\n",
    "    \n",
    "    plt.legend()\n",
    "    plt.grid(True)\n",
    "    plt.xlabel(r'$\\varepsilon$',fontsize=15)\n",
    "    plt.ylabel('Energy', fontsize=15)\n",
    "    plt.xlim(-4, 4)\n",
    "    plt.ylim(-6, 6)\n",
    "    plt.xticks(fontsize=10)\n",
    "    plt.yticks(fontsize=10)\n",
    "    plt.legend(fontsize=12)\n",
    "\n",
    "    global current_fig\n",
    "    current_fig = plt.gcf()  # Store the latest figure\n",
    "    plt.show()\n",
    "\n",
    "    # Compute and display the eigenvectors for ε = 0\n",
    "    eps0 = 0  # Chosen value to display eigenvectors\n",
    "    eigvals, eigvecs = compute_eigensystem(eps0, eps0, t, Delta)\n",
    "    \n",
    "    eigvec_str = \"### Eigenvectors at \\( \\varepsilon_1 = \\varepsilon_2 = 0 \\):\\n\"\n",
    "    for i in range(4):\n",
    "        eigvec_str += f\"**Eigenvalue {eigvals[i]:.3f}:**  \\n\"\n",
    "        eigvec_str += f\"[{', '.join(f'{v:.3f}' for v in eigvecs[:, i])}]\\n\\n\"\n",
    "\n",
    "    display(Markdown(eigvec_str))  # Display nicely formatted eigenvectors\n",
    "\n",
    "# Sliders for t and Δ\n",
    "t_slider = widgets.FloatSlider(min=-5.0, max=5.0, step=1.0, value=1.0, description='t')\n",
    "Delta_slider = widgets.FloatSlider(min=-5.0, max=5.0, step=1.0, value=1.0, description=\"Δ\")\n",
    "\n",
    "# Save button\n",
    "save_button = widgets.Button(description=\"Save Figure\")\n",
    "\n",
    "def save_figure(_):\n",
    "    if current_fig:\n",
    "        filename = f\"figures_minimal/plot_t={t_slider.value}_Delta={Delta_slider.value}.pdf\"\n",
    "        current_fig.savefig(filename, dpi=300)\n",
    "        print(f\"Figure saved as {filename}\")\n",
    "\n",
    "save_button.on_click(save_figure)\n",
    "\n",
    "# Display the interactive widgets\n",
    "display(widgets.VBox([t_slider, Delta_slider, save_button]))\n",
    "interactive_plot = widgets.interactive_output(plot_energy_vs_epsilon, {'t': t_slider, 'Delta': Delta_slider})\n",
    "display(interactive_plot)"
   ]
  },
  {
   "cell_type": "markdown",
   "metadata": {},
   "source": [
    "### Many body formulation"
   ]
  },
  {
   "cell_type": "code",
   "execution_count": null,
   "metadata": {},
   "outputs": [
    {
     "data": {
      "application/vnd.jupyter.widget-view+json": {
       "model_id": "a118979fc72b445080f32779a3478e9f",
       "version_major": 2,
       "version_minor": 0
      },
      "text/plain": [
       "VBox(children=(FloatSlider(value=1.0, description='t', max=5.0, min=-5.0), FloatSlider(value=1.0, description=…"
      ]
     },
     "metadata": {},
     "output_type": "display_data"
    },
    {
     "data": {
      "application/vnd.jupyter.widget-view+json": {
       "model_id": "24ea5bfbcb254fcbbb9beab9f30c3607",
       "version_major": 2,
       "version_minor": 0
      },
      "text/plain": [
       "Output()"
      ]
     },
     "execution_count": 15,
     "metadata": {},
     "output_type": "execute_result"
    }
   ],
   "source": [
    "import numpy as np\n",
    "import matplotlib.pyplot as plt\n",
    "import ipywidgets as widgets\n",
    "from IPython.display import display\n",
    "\n",
    "def many_body_H(epsilon, t, Delta):\n",
    "    \"\"\"\n",
    "    Construct the 4x4 many-body Hamiltonian with ε₁ = ε₂ = ε:\n",
    "    \n",
    "        H = [[ 0,       0,     0,     Δ      ],\n",
    "             [ 0,     ε,      t,      0      ],\n",
    "             [ 0,      t,     ε,      0      ],\n",
    "             [ Δ,      0,     0,    2ε      ]]\n",
    "    \"\"\"\n",
    "    return np.array([\n",
    "        [0,         0,       0,       Delta],\n",
    "        [0,     epsilon,      t,         0   ],\n",
    "        [0,         t,   epsilon,       0   ],\n",
    "        [Delta,      0,       0,    2 * epsilon]\n",
    "    ])\n",
    "\n",
    "def compute_eigensystem(epsilon, t, Delta):\n",
    "    H = many_body_H(epsilon, t, Delta)\n",
    "    eigvals, eigvecs = np.linalg.eig(H)\n",
    "    # Sort eigenvalues in ascending order for consistency\n",
    "    idx = np.argsort(eigvals)\n",
    "    return np.real(eigvals[idx]), eigvecs[:, idx]\n",
    "\n",
    "def plot_energy_vs_epsilon(t, Delta):\n",
    "    epsilon_vals = np.linspace(-5, 5, 400)\n",
    "    # For each value of ε compute the sorted eigenvalues\n",
    "    bands = [compute_eigensystem(eps, t, Delta)[0] for eps in epsilon_vals]\n",
    "    bands = np.array(bands)\n",
    "    \n",
    "    plt.figure(figsize=(8, 6))\n",
    "    # for i in range(bands.shape[1]):\n",
    "    #     plt.plot(epsilon_vals, bands[:, i], label=rf'$E_{{{i+1}}}$')\n",
    "    \n",
    "    plt.plot(epsilon_vals, bands[:, 0], label=rf'$E_1$', color = 'red', linestyle='dashed')\n",
    "    plt.plot(epsilon_vals, bands[:, 1], label=rf'$E_2$', color = 'red')\n",
    "    plt.plot(epsilon_vals, bands[:, 2], label=rf'$E_3$', color = 'blue')\n",
    "    plt.plot(epsilon_vals, bands[:, 3], label=rf'$E_4$', color = 'blue', linestyle='dashed')\n",
    "    # Add t and Δ info to the legend (using empty plots)\n",
    "    plt.plot([], [], ' ', label=f't = {t}')\n",
    "    plt.plot([], [], ' ', label=f'Δ = {Delta}')\n",
    "    \n",
    "    # Christain Gutman, Quantum för läkemedel\n",
    "    # Walse Miller, Photon detectorer, entanglement för vävnad, mikroskopi genom skallbenet, Kvantfysik och applikationer av kvantfysik\n",
    "    # SU som leds Mohammed Burabani, spinna ut start ups ur forskningen, Jobbar med quantum communiation cryptography\n",
    "    # \n",
    "\n",
    "    plt.legend()\n",
    "    plt.grid(True)\n",
    "\n",
    "    plt.xlabel(r'$\\varepsilon$',fontsize=15)\n",
    "    plt.ylabel('Energy', fontsize=15)\n",
    "    plt.xlim(-4, 4)\n",
    "    plt.ylim(-6, 6)\n",
    "    plt.xticks(fontsize=10)\n",
    "    plt.yticks(fontsize=10)\n",
    "    plt.legend(fontsize=12)\n",
    "    \n",
    "    global current_fig\n",
    "    current_fig = plt.gcf()  # Save current figure to allow saving\n",
    "    plt.show()\n",
    "\n",
    "# Create sliders for t and Δ\n",
    "t_slider = widgets.FloatSlider(min=-5.0, max=5.0, step=0.1, value=1.0, description='t')\n",
    "Delta_slider = widgets.FloatSlider(min=-5.0, max=5.0, step=0.1, value=1.0, description='Δ')\n",
    "\n",
    "# Create a save button to export the current figure as PDF\n",
    "save_button = widgets.Button(description=\"Save Figure\")\n",
    "\n",
    "def save_figure(b):\n",
    "    if current_fig:\n",
    "        filename = f\"figures_minimal/many_body_plot_t={t_slider.value}_Delta={Delta_slider.value}.pdf\"\n",
    "        current_fig.savefig(filename, dpi=300)\n",
    "        print(f\"Figure saved as {filename}\")\n",
    "\n",
    "save_button.on_click(save_figure)\n",
    "\n",
    "# Display the interactive widgets\n",
    "display(widgets.VBox([t_slider, Delta_slider, save_button]))\n",
    "widgets.interactive_output(plot_energy_vs_epsilon, {'t': t_slider, 'Delta': Delta_slider})"
   ]
  }
 ],
 "metadata": {
  "kernelspec": {
   "display_name": "article_mzm",
   "language": "python",
   "name": "python3"
  },
  "language_info": {
   "codemirror_mode": {
    "name": "ipython",
    "version": 3
   },
   "file_extension": ".py",
   "mimetype": "text/x-python",
   "name": "python",
   "nbconvert_exporter": "python",
   "pygments_lexer": "ipython3",
   "version": "3.8.18"
  }
 },
 "nbformat": 4,
 "nbformat_minor": 2
}
