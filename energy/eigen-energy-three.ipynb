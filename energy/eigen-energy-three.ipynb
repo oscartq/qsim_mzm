{
 "cells": [
  {
   "cell_type": "markdown",
   "metadata": {},
   "source": [
    "### Single body formulation"
   ]
  },
  {
   "cell_type": "code",
   "execution_count": 13,
   "metadata": {},
   "outputs": [
    {
     "data": {
      "application/vnd.jupyter.widget-view+json": {
       "model_id": "48997d3224414a85bcdee261ec8ed6d2",
       "version_major": 2,
       "version_minor": 0
      },
      "text/plain": [
       "VBox(children=(FloatSlider(value=1.0, description='$t$', max=5.0, min=-5.0), FloatSlider(value=1.0, descriptio…"
      ]
     },
     "metadata": {},
     "output_type": "display_data"
    },
    {
     "data": {
      "application/vnd.jupyter.widget-view+json": {
       "model_id": "0c9d91dd58f8467f9085f1d57671eaf6",
       "version_major": 2,
       "version_minor": 0
      },
      "text/plain": [
       "Output()"
      ]
     },
     "metadata": {},
     "output_type": "display_data"
    }
   ],
   "source": [
    "import numpy as np\n",
    "import matplotlib.pyplot as plt\n",
    "import ipywidgets as widgets\n",
    "from IPython.display import display, Markdown\n",
    "# import os # Uncomment if you want to use a subdirectory for figures\n",
    "\n",
    "# Global variable to store the current figure for saving\n",
    "current_fig = None\n",
    "\n",
    "def hamiltonian(epsilon1, epsilon2, epsilon3, t, Delta):\n",
    "    \"\"\"\n",
    "    Defines the 3-site Bogoliubov-de Gennes Hamiltonian matrix.\n",
    "    This specific structure leads to det(H)=0 for N=3 sites if Delta_p is antisymmetric.\n",
    "    Parameters:\n",
    "    epsilon1, epsilon2, epsilon3: On-site energies for sites 1, 2, and 3.\n",
    "    t: Hopping parameter.\n",
    "    Delta: Pairing strength parameter.\n",
    "    \"\"\"\n",
    "    d = Delta  # Use 'd' as a shorthand for Delta in the matrix\n",
    "    # H_p is the particle block (real symmetric)\n",
    "    # Delta_p is the pairing block (real antisymmetric for N=3, leading to det(H)=0)\n",
    "    return np.array([[ epsilon1,        t,          0,          0,         d,          0],\n",
    "                     [        t, epsilon2,          t,          -d,          0,         d],\n",
    "                     [        0,        t,   epsilon3,          0,          -d,          0],\n",
    "                     [        0,        -d,          0,  -epsilon1,         -t,          0], # Delta_p^dagger = Delta_p^T = -Delta_p\n",
    "                     [       d,        0,          -d,         -t,  -epsilon2,         -t], # (since Delta_p is real antisymmetric)\n",
    "                     [        0,       d,          0,          0,         -t,  -epsilon3]  # -H_p^* = -H_p (since H_p is real)\n",
    "])\n",
    "\n",
    "\n",
    "def compute_eigensystem(epsilon1, epsilon2, epsilon3, t, Delta):\n",
    "    \"\"\"\n",
    "    Computes eigenvalues and eigenvectors for the given Hamiltonian parameters.\n",
    "    Parameters:\n",
    "    epsilon1, epsilon2, epsilon3: On-site energies for sites 1, 2, and 3.\n",
    "    t: Hopping parameter.\n",
    "    Delta: Pairing strength parameter.\n",
    "    Returns:\n",
    "    Sorted eigenvalues (real part) and corresponding eigenvectors (real part).\n",
    "    \"\"\"\n",
    "    H = hamiltonian(epsilon1, epsilon2, epsilon3, t, Delta)\n",
    "    eigvals, eigvecs = np.linalg.eig(H)\n",
    "    idx = np.argsort(eigvals)  # Sort eigenvalues and corresponding eigenvectors\n",
    "    return np.real(eigvals[idx]), np.real(eigvecs[:, idx])\n",
    "\n",
    "def plot_energy_vs_epsilon(t, Delta):\n",
    "    \"\"\"\n",
    "    Plots energy bands as a function of a uniformly varying on-site energy epsilon.\n",
    "    Also displays eigenvectors for epsilon = 0.\n",
    "    Parameters:\n",
    "    t: Hopping parameter.\n",
    "    Delta: Pairing strength parameter.\n",
    "    \"\"\"\n",
    "    plt.close('all')  # Close previous figures to avoid duplicate plots\n",
    "    global current_fig\n",
    "\n",
    "    epsilon_vals = np.linspace(-5, 5, 400)\n",
    "    # Assuming epsilon1 = epsilon2 = epsilon3 = eps for the sweep\n",
    "    bands = [compute_eigensystem(eps, eps, eps, t, Delta)[0] for eps in epsilon_vals]\n",
    "    bands = np.array(bands)\n",
    "\n",
    "    plt.figure(figsize=(8, 6))\n",
    "    for i in range(bands.shape[1]):  # bands.shape[1] will be 6 for a 6x6 Hamiltonian\n",
    "        plt.plot(epsilon_vals, bands[:, i], label=fr'$E_{{{i+1}}}$')\n",
    "\n",
    "    # Add t and Δ to legend using empty plots with labels\n",
    "    plt.plot([], [], ' ', label=fr'$t = {t:.2f}$') # Format slider values\n",
    "    plt.plot([], [], ' ', label=fr'$\\Delta = {Delta:.2f}$') # Format slider values\n",
    "    \n",
    "    plt.legend(loc='best') \n",
    "    # plt.grid(True) # Optional: uncomment for a grid\n",
    "    plt.xlabel(r'$\\varepsilon = \\varepsilon_1 = \\varepsilon_2 = \\varepsilon_3$', fontsize=15)\n",
    "    plt.ylabel('Energy', fontsize=15)\n",
    "    plt.xlim(-4, 4)\n",
    "    plt.ylim(-6, 6)\n",
    "    plt.xticks(fontsize=10)\n",
    "    plt.yticks(fontsize=10)\n",
    "    plt.title('Energy Bands vs. Site Energy $\\\\varepsilon$')\n",
    "\n",
    "    current_fig = plt.gcf()  # Store the current figure\n",
    "    plt.show()\n",
    "\n",
    "    # Compute and display the eigenvectors for ε = 0\n",
    "    eps0 = 0  # Chosen value of epsilon to display eigenvectors\n",
    "    # Assuming epsilon1 = epsilon2 = epsilon3 = eps0\n",
    "    eigvals, eigvecs = compute_eigensystem(eps0, eps0, eps0, t, Delta)\n",
    "    \n",
    "    eigvec_str = fr\"### Eigenvectors at \\( \\varepsilon_1 = \\varepsilon_2 = \\varepsilon_3 = {eps0} \\), \\( t = {t:.2f} \\), \\( \\Delta = {Delta:.2f} \\):\\n\"\n",
    "    # Display all 6 eigenvalues and eigenvectors\n",
    "    for i in range(eigvals.shape[0]): \n",
    "        eigvec_str += f\"**Eigenvalue {eigvals[i]:.3f}:** \\n\"\n",
    "        eigvec_str += f\"[{', '.join(f'{v:.3f}' for v in eigvecs[:, i])}]\\n\\n\"\n",
    "\n",
    "    display(Markdown(eigvec_str))  # Display nicely formatted eigenvectors\n",
    "\n",
    "# Sliders for t and Δ\n",
    "t_slider = widgets.FloatSlider(min=-5.0, max=5.0, step=0.1, value=1.0, description='$t$')\n",
    "Delta_slider = widgets.FloatSlider(min=-5.0, max=5.0, step=0.1, value=1.0, description=\"$\\\\Delta$\")\n",
    "\n",
    "# Save button\n",
    "save_button = widgets.Button(description=\"Save Figure\")\n",
    "\n",
    "def save_figure(_):\n",
    "    \"\"\"Saves the current plot to a PDF file.\"\"\"\n",
    "    global current_fig\n",
    "    if current_fig:\n",
    "        # Ensure the directory exists or save to a known valid path.\n",
    "        # Saving in the current working directory by default:\n",
    "        filename = f\"plot_t={t_slider.value:.2f}_Delta={Delta_slider.value:.2f}.pdf\"\n",
    "        \n",
    "        # If you want to use a subdirectory like 'figures_minimal':\n",
    "        # figures_dir = \"figures_minimal\"\n",
    "        # if not os.path.exists(figures_dir):\n",
    "        #     os.makedirs(figures_dir)\n",
    "        # filename = os.path.join(figures_dir, f\"plot_t={t_slider.value:.2f}_Delta={Delta_slider.value:.2f}.pdf\")\n",
    "        \n",
    "        current_fig.savefig(filename, dpi=300, bbox_inches='tight')\n",
    "        print(f\"Figure saved as {filename}\")\n",
    "    else:\n",
    "        print(\"No figure to save. Please generate a plot first.\")\n",
    "\n",
    "save_button.on_click(save_figure)\n",
    "\n",
    "# Display the interactive widgets\n",
    "display(widgets.VBox([t_slider, Delta_slider, save_button]))\n",
    "interactive_plot = widgets.interactive_output(plot_energy_vs_epsilon, {'t': t_slider, 'Delta': Delta_slider})\n",
    "display(interactive_plot)"
   ]
  },
  {
   "cell_type": "markdown",
   "metadata": {},
   "source": [
    "### Many body formulation"
   ]
  },
  {
   "cell_type": "code",
   "execution_count": null,
   "metadata": {},
   "outputs": [
    {
     "data": {
      "application/vnd.jupyter.widget-view+json": {
       "model_id": "0a77c41c346a40d595ebd633ccfc52c3",
       "version_major": 2,
       "version_minor": 0
      },
      "text/plain": [
       "VBox(children=(FloatSlider(value=1.0, description='t', max=5.0, min=-5.0), FloatSlider(value=1.0, description=…"
      ]
     },
     "metadata": {},
     "output_type": "display_data"
    },
    {
     "data": {
      "application/vnd.jupyter.widget-view+json": {
       "model_id": "d0f4a1c862fe4f8ab2572b6a7da7b4ee",
       "version_major": 2,
       "version_minor": 0
      },
      "text/plain": [
       "Output()"
      ]
     },
     "execution_count": 10,
     "metadata": {},
     "output_type": "execute_result"
    }
   ],
   "source": [
    "import numpy as np\n",
    "import matplotlib.pyplot as plt\n",
    "import ipywidgets as widgets\n",
    "from IPython.display import display\n",
    "\n",
    "def many_body_H(epsilon, t, Delta):\n",
    "    \"\"\"\n",
    "    Construct the 4x4 many-body Hamiltonian with ε₁ = ε₂ = ε:\n",
    "    \n",
    "        H = [[ 0,       0,     0,     Δ      ],\n",
    "             [ 0,     ε,      t,      0      ],\n",
    "             [ 0,      t,     ε,      0      ],\n",
    "             [ Δ,      0,     0,    2ε      ]]\n",
    "    \"\"\"\n",
    "    return np.array([\n",
    "        [0,         0,       0,       Delta],\n",
    "        [0,     epsilon,      t,         0   ],\n",
    "        [0,         t,   epsilon,       0   ],\n",
    "        [Delta,      0,       0,    2 * epsilon]\n",
    "    ])\n",
    "\n",
    "def compute_eigensystem(epsilon, t, Delta):\n",
    "    H = many_body_H(epsilon, t, Delta)\n",
    "    eigvals, eigvecs = np.linalg.eig(H)\n",
    "    # Sort eigenvalues in ascending order for consistency\n",
    "    idx = np.argsort(eigvals)\n",
    "    return np.real(eigvals[idx]), eigvecs[:, idx]\n",
    "\n",
    "def plot_energy_vs_epsilon(t, Delta):\n",
    "    epsilon_vals = np.linspace(-5, 5, 400)\n",
    "    # For each value of ε compute the sorted eigenvalues\n",
    "    bands = [compute_eigensystem(eps, t, Delta)[0] for eps in epsilon_vals]\n",
    "    bands = np.array(bands)\n",
    "    \n",
    "    plt.figure(figsize=(8, 6))\n",
    "    # for i in range(bands.shape[1]):\n",
    "    #     plt.plot(epsilon_vals, bands[:, i], label=rf'$E_{{{i+1}}}$')\n",
    "    \n",
    "    plt.plot(epsilon_vals, bands[:, 0], label=rf'$E_1$', color = 'red', linestyle='dashed')\n",
    "    plt.plot(epsilon_vals, bands[:, 1], label=rf'$E_2$', color = 'red')\n",
    "    plt.plot(epsilon_vals, bands[:, 2], label=rf'$E_3$', color = 'blue')\n",
    "    plt.plot(epsilon_vals, bands[:, 3], label=rf'$E_4$', color = 'blue', linestyle='dashed')\n",
    "    # Add t and Δ info to the legend (using empty plots)\n",
    "    plt.plot([], [], ' ', label=f't = {t}')\n",
    "    plt.plot([], [], ' ', label=f'Δ = {Delta}')\n",
    "    \n",
    "    # Christain Gutman, Quantum för läkemedel\n",
    "    # Walse Miller, Photon detectorer, entanglement för vävnad, mikroskopi genom skallbenet, Kvantfysik och applikationer av kvantfysik\n",
    "    # SU som leds Mohammed Burabani, spinna ut start ups ur forskningen, Jobbar med quantum communiation cryptography\n",
    "    # \n",
    "\n",
    "    #plt.legend()\n",
    "    #plt.grid(True)\n",
    "\n",
    "    plt.xlabel(r'$\\varepsilon$',fontsize=15)\n",
    "    plt.ylabel('Energy', fontsize=15)\n",
    "    plt.xlim(-4, 4)\n",
    "    plt.ylim(-6, 6)\n",
    "    plt.xticks(fontsize=10)\n",
    "    plt.yticks(fontsize=10)\n",
    "    #plt.legend(fontsize=12)\n",
    "    \n",
    "    global current_fig\n",
    "    current_fig = plt.gcf()  # Save current figure to allow saving\n",
    "    plt.show()\n",
    "\n",
    "# Create sliders for t and Δ\n",
    "t_slider = widgets.FloatSlider(min=-5.0, max=5.0, step=0.1, value=1.0, description='t')\n",
    "Delta_slider = widgets.FloatSlider(min=-5.0, max=5.0, step=0.1, value=1.0, description='Δ')\n",
    "\n",
    "# Create a save button to export the current figure as PDF\n",
    "save_button = widgets.Button(description=\"Save Figure\")\n",
    "\n",
    "def save_figure(b):\n",
    "    if current_fig:\n",
    "        filename = f\"figures_minimal/many_body_plot_t={t_slider.value}_Delta={Delta_slider.value}.pdf\"\n",
    "        current_fig.savefig(filename, dpi=300)\n",
    "        print(f\"Figure saved as {filename}\")\n",
    "\n",
    "save_button.on_click(save_figure)\n",
    "\n",
    "# Display the interactive widgets\n",
    "display(widgets.VBox([t_slider, Delta_slider, save_button]))\n",
    "widgets.interactive_output(plot_energy_vs_epsilon, {'t': t_slider, 'Delta': Delta_slider})"
   ]
  }
 ],
 "metadata": {
  "kernelspec": {
   "display_name": "article_mzm",
   "language": "python",
   "name": "python3"
  },
  "language_info": {
   "codemirror_mode": {
    "name": "ipython",
    "version": 3
   },
   "file_extension": ".py",
   "mimetype": "text/x-python",
   "name": "python",
   "nbconvert_exporter": "python",
   "pygments_lexer": "ipython3",
   "version": "3.8.18"
  }
 },
 "nbformat": 4,
 "nbformat_minor": 2
}
