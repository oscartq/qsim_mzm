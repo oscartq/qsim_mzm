{
 "cells": [
  {
   "cell_type": "code",
   "execution_count": 1,
   "id": "016b4349",
   "metadata": {},
   "outputs": [],
   "source": [
    "import numpy as np\n",
    "\n",
    "from scipy.optimize import curve_fit\n",
    "from qiskit.converters import circuit_to_dag, dag_to_circuit\n",
    "from qiskit.dagcircuit import DAGCircuit, DAGNode, DAGOpNode\n",
    "\n",
    "import matplotlib.pyplot as plt\n",
    "\n",
    "plt.rcParams.update({\"font.size\": 16})  # enlarge matplotlib fonts\n",
    "\n",
    "from tqdm import tqdm\n",
    "\n",
    "from qiskit.opflow import Zero, One, I, X, Y, Z\n",
    "from qiskit.circuit import Parameter"
   ]
  },
  {
   "cell_type": "code",
   "execution_count": 2,
   "id": "66eb9592",
   "metadata": {},
   "outputs": [
    {
     "data": {
      "text/plain": [
       "SummedOp([PauliOp(Pauli('IZZ'), coeff=1.0), PauliOp(Pauli('ZZI'), coeff=1.0)], coeff=1.0, abelian=False)"
      ]
     },
     "execution_count": 2,
     "metadata": {},
     "output_type": "execute_result"
    }
   ],
   "source": [
    "def compute_H(J, num_sites):\n",
    "    H = 0\n",
    "    for i in range(num_sites - 1):\n",
    "        H += J * ((I ^ (num_sites - i - 2)) ^ (Z ^ Z) ^ (I ^ i))\n",
    "    return H\n",
    "\n",
    "\n",
    "# Example computation. This Hamiltonian is the same model we cover in the paper and will persist through the notebook.\n",
    "num_sites = 3\n",
    "\n",
    "# Parameterized hopping strengths\n",
    "J = Parameter(\"J\")\n",
    "H_param = compute_H(J, num_sites)\n",
    "\n",
    "# Select specific tau and tau_d values\n",
    "H = H_param.bind_parameters({J: 1})\n",
    "\n",
    "# Print Hamiltonian operators to confirm it's what we expect\n",
    "H"
   ]
  },
  {
   "cell_type": "code",
   "execution_count": 7,
   "id": "9e82d992-1403-421e-a950-02c2f26287ea",
   "metadata": {},
   "outputs": [
    {
     "name": "stderr",
     "output_type": "stream",
     "text": [
      "100%|██████████| 500/500 [00:09<00:00, 54.59it/s]\n",
      "100%|██████████| 500/500 [00:06<00:00, 77.48it/s]\n"
     ]
    }
   ],
   "source": [
    "def compute_U(H, t):\n",
    "    U = (H * t).exp_i()\n",
    "    return U\n",
    "\n",
    "# Define a list of number operators in terms of Pauli operators\n",
    "z_is = [\n",
    "    ((I ^ i) ^ Z ^ (I ^ (num_sites - i - 1)))\n",
    "    for i in range(num_sites)\n",
    "]\n",
    "\n",
    "def exact_time_evolution(H,obseravble, initial_state, times, num_sites):\n",
    "    evo_matrix = np.zeros((len(times), num_sites))\n",
    "    var_matrix = np.zeros(len(times))\n",
    "    for i, time in enumerate(tqdm(times)):\n",
    "        for j, oi in enumerate(obseravble):\n",
    "            # Compute the time evolution operator U(time) at time time\n",
    "            U = compute_U(H, time)\n",
    "            # Compute the evolution of the initial state\n",
    "            final_state = U @ initial_state\n",
    "            # Compute the expectation value n_i\n",
    "            evo_matrix[i, j] = np.abs((final_state.adjoint() @ oi @ final_state).eval())\n",
    "        var_matrix[i] = (\n",
    "            np.abs((final_state.adjoint() @ (sum(obseravble) @ sum(obseravble)) @ final_state).eval())\n",
    "            - np.abs((final_state.adjoint() @ sum(obseravble) @ final_state).eval()) ** 2\n",
    "        )\n",
    "    return evo_matrix, var_matrix\n",
    "# Plot the time evolution\n",
    "times = np.linspace(0, 4 * np.pi, 500)\n",
    "initial_state_1 = Zero ^ Zero ^ Zero #1/np.sqrt(3) * (Zero ^ Zero ^ Zero) + 1/np.sqrt(3) * (One ^ One ^ One)\n",
    "initial_state_2 = 1/np.sqrt(3) * (Zero ^ Zero ^ Zero) + 1/np.sqrt(3) * (One ^ One ^ One)\n",
    "H_1 = H_param.bind_parameters({J: -1})   \n",
    "\n",
    "n_J05_evo_matrix, n_var_matrix = exact_time_evolution(H, z_is, initial_state_1, times, num_sites)\n",
    "n_J1_evo_matrix, n_var_matrix = exact_time_evolution(H, z_is, initial_state_2, times, num_sites)"
   ]
  },
  {
   "cell_type": "code",
   "execution_count": 9,
   "id": "dd4d3b86",
   "metadata": {},
   "outputs": [
    {
     "name": "stderr",
     "output_type": "stream",
     "text": [
      "/tmp/ipykernel_1389/643387581.py:22: UserWarning: FixedFormatter should only be used together with FixedLocator\n",
      "  axes[1].set_yticklabels(['0','3','6'])\n"
     ]
    },
    {
     "data": {
      "image/png": "[encoded data removed]",
      "text/plain": [
       "<Figure size 800x600 with 2 Axes>"
      ]
     },
     "metadata": {},
     "output_type": "display_data"
    }
   ],
   "source": [
    "# Define xticks and labels\n",
    "xticks = np.linspace(0, 4*np.pi, 5)\n",
    "xtick_labels = [r'${}\\pi$'.format(i) if i != 0 else '0' for i in range(5)]\n",
    "\n",
    "# Plotting\n",
    "fig, axes = plt.subplots(2, 1, figsize=(8, 6), sharex=True)\n",
    "\n",
    "# First plot (a)\n",
    "axes[0].plot(times, np.sum(n_J05_evo_matrix, axis=1))\n",
    "axes[0].set_ylabel(rf\"$\\sum M$\")\n",
    "axes[0].set_ylim([0, 3])\n",
    "axes[0].set_yticks([0, 3, 6])\n",
    "axes[0].set_yticklabels(['0','3','6'])\n",
    "axes[0].text(0, 1.05, 'a)', transform=axes[0].transAxes, fontsize=12)\n",
    "\n",
    "# Second plot (b)\n",
    "axes[1].plot(times, np.sum(n_J1_evo_matrix, axis=1))\n",
    "axes[1].set_xlabel(rf\"$\\tau$ [a.u.]\")\n",
    "axes[1].set_ylabel(rf\"$\\sum M$\")\n",
    "#axes[1].set_ylim([0, 3])\n",
    "#axes[1].set_yticks([0, 3, 6])\n",
    "axes[1].set_yticklabels(['0','3','6'])\n",
    "axes[1].set_xticks(xticks)\n",
    "axes[1].set_xticklabels(xtick_labels)\n",
    "axes[1].text(0, 1.05, 'b)', transform=axes[1].transAxes, fontsize=12)\n",
    "\n",
    "# Final adjustments\n",
    "plt.xlim([0, 4*np.pi])\n",
    "plt.tight_layout()\n",
    "plt.savefig(\"figures/ising/magnetization-comparison.pdf\")\n",
    "plt.show()\n"
   ]
  },
  {
   "cell_type": "code",
   "execution_count": 14,
   "id": "1372bf6c",
   "metadata": {},
   "outputs": [
    {
     "data": {
      "image/png": "[encoded data removed]",
      "text/plain": [
       "<Figure size 800x400 with 1 Axes>"
      ]
     },
     "metadata": {},
     "output_type": "display_data"
    }
   ],
   "source": [
    "#num_op_labels = [r\"$\\langle n_\" + str(i+1) + \"\\\\rangle$\" for i in range(num_sites)]\n",
    "xticks = np.linspace(0, 4*np.pi, 5)\n",
    "xtick_labels = [r'${}\\pi$'.format(i) if i != 0 else '0' for i in range(5)]\n",
    "\n",
    "plt.figure(figsize=(8, 4))\n",
    "plt.plot(times, np.sum(n_J1_evo_matrix, axis=1))\n",
    "plt.xlabel(rf\"$\\tau$ [a.u]\")\n",
    "plt.ylabel(rf\"$\\sum M$\")\n",
    "plt.title(\"\")\n",
    "plt.ylim([0, 3])\n",
    "plt.xlim([0,4*np.pi])\n",
    "plt.yticks([0, 3, 6], ['0','3', '6'])\n",
    "plt.xticks(xticks, xtick_labels)\n",
    "\n",
    "plt.tight_layout()\n",
    "plt.savefig(\"figures/ising/J=1-magnetization-Z.pdf\")\n",
    "plt.show()"
   ]
  },
  {
   "cell_type": "code",
   "execution_count": null,
   "id": "ca4972c0",
   "metadata": {},
   "outputs": [],
   "source": []
  },
  {
   "cell_type": "markdown",
   "id": "f3204194",
   "metadata": {},
   "source": [
    "### Draw circuit"
   ]
  },
  {
   "cell_type": "code",
   "execution_count": null,
   "id": "8f330127",
   "metadata": {},
   "outputs": [
    {
     "ename": "NameError",
     "evalue": "name 'compute_U_trot' is not defined",
     "output_type": "error",
     "traceback": [
      "\u001b[0;31m---------------------------------------------------------------------------\u001b[0m",
      "\u001b[0;31mNameError\u001b[0m                                 Traceback (most recent call last)",
      "Cell \u001b[0;32mIn[5], line 10\u001b[0m\n\u001b[1;32m      5\u001b[0m     qc_trot \u001b[38;5;241m=\u001b[39m PauliTrotterEvolution()\u001b[38;5;241m.\u001b[39mconvert(U_trot)\n\u001b[1;32m      6\u001b[0m     \u001b[38;5;28;01mreturn\u001b[39;00m (\n\u001b[1;32m      7\u001b[0m         qc_trot\u001b[38;5;241m.\u001b[39mto_circuit()\u001b[38;5;241m.\u001b[39mdecompose()\u001b[38;5;241m.\u001b[39mdecompose()\n\u001b[1;32m      8\u001b[0m     )  \u001b[38;5;66;03m# add decompose methods so gates are not abstracted unitary blocks\u001b[39;00m\n\u001b[0;32m---> 10\u001b[0m U1 \u001b[38;5;241m=\u001b[39m \u001b[43mcompute_U_trot\u001b[49m(H_2, np\u001b[38;5;241m.\u001b[39mpi, \u001b[38;5;241m1\u001b[39m)\n\u001b[1;32m     11\u001b[0m qc \u001b[38;5;241m=\u001b[39m convert_U_trot_to_qc(U1)\n\u001b[1;32m     13\u001b[0m latex_code \u001b[38;5;241m=\u001b[39m qc\u001b[38;5;241m.\u001b[39mdraw(\u001b[38;5;124m\"\u001b[39m\u001b[38;5;124mlatex_source\u001b[39m\u001b[38;5;124m\"\u001b[39m)\n",
      "\u001b[0;31mNameError\u001b[0m: name 'compute_U_trot' is not defined"
     ]
    }
   ],
   "source": [
    "from qiskit.opflow import PauliTrotterEvolution\n",
    "\n",
    "def convert_U_trot_to_qc(U_trot):\n",
    "\n",
    "    qc_trot = PauliTrotterEvolution().convert(U_trot)\n",
    "    return (\n",
    "        qc_trot.to_circuit().decompose().decompose()\n",
    "    )  # add decompose methods so gates are not abstracted unitary blocks\n",
    "    \n",
    "U1 = compute_U_trot(H_2, np.pi, 1)\n",
    "qc = convert_U_trot_to_qc(U1)\n",
    "\n",
    "latex_code = qc.draw(\"latex_source\")\n",
    "print(latex_code)\n",
    "with open(\"circuits/2-site-circuit.tex\", \"w\") as f:\n",
    "    f.write(latex_code)"
   ]
  }
 ],
 "metadata": {
  "kernelspec": {
   "display_name": "article_qsim",
   "language": "python",
   "name": "python3"
  },
  "language_info": {
   "codemirror_mode": {
    "name": "ipython",
    "version": 3
   },
   "file_extension": ".py",
   "mimetype": "text/x-python",
   "name": "python",
   "nbconvert_exporter": "python",
   "pygments_lexer": "ipython3",
   "version": "3.8.20"
  },
  "toc": {
   "base_numbering": 1,
   "nav_menu": {},
   "number_sections": true,
   "sideBar": true,
   "skip_h1_title": false,
   "title_cell": "Table of Contents",
   "title_sidebar": "Contents",
   "toc_cell": false,
   "toc_position": {},
   "toc_section_display": true,
   "toc_window_display": true
  }
 },
 "nbformat": 4,
 "nbformat_minor": 5
}
