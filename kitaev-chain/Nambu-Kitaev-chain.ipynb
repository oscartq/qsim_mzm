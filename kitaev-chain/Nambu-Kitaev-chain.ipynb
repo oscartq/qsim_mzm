{
 "cells": [
  {
   "cell_type": "code",
   "execution_count": 2,
   "id": "cf9b427c",
   "metadata": {},
   "outputs": [],
   "source": [
    "import numpy as np\n",
    "\n",
    "from scipy.optimize import curve_fit\n",
    "from qiskit.converters import circuit_to_dag, dag_to_circuit\n",
    "from qiskit.dagcircuit import DAGCircuit, DAGNode, DAGOpNode\n",
    "\n",
    "import matplotlib.pyplot as plt\n",
    "\n",
    "plt.rcParams.update({\"font.size\": 16})  # enlarge matplotlib fonts\n",
    "\n",
    "from tqdm import tqdm\n",
    "\n",
    "from qiskit.quantum_info import Pauli, SparsePauliOp\n",
    "from qiskit.opflow import Zero, One, I, X, Y, Z, SummedOp, PauliOp\n",
    "from qiskit.circuit import Parameter, ParameterVector\n",
    "from qiskit_nature.operators.second_quantization import FermionicOp\n",
    "from qiskit_nature.mappers.second_quantization import JordanWignerMapper\n",
    "\n"
   ]
  },
  {
   "cell_type": "code",
   "execution_count": 8,
   "id": "5853787e",
   "metadata": {},
   "outputs": [
    {
     "data": {
      "text/plain": [
       "[PauliSumOp(SparsePauliOp(['III', 'IIZ', 'IZI', 'ZII'],\n",
       "               coeffs=[ 1.5+0.j, -0.5+0.j, -0.5+0.j, -0.5+0.j]), coeff=1.0)]"
      ]
     },
     "execution_count": 8,
     "metadata": {},
     "output_type": "execute_result"
    }
   ],
   "source": [
    "num_sites = 3\n",
    "n_op = 0\n",
    "for i in range(3):\n",
    "    n_op += FermionicOp(\"+_\"+str(i), register_length = 3) @ FermionicOp(\"-_\"+str(i), register_length = 3)\n",
    "        \n",
    "jw_mapper = JordanWignerMapper\n",
    "n_op_JW = [JordanWignerMapper.map(jw_mapper, n_op)]\n",
    "n_op_JW"
   ]
  },
  {
   "cell_type": "code",
   "execution_count": 10,
   "id": "da33220e",
   "metadata": {},
   "outputs": [
    {
     "data": {
      "text/plain": [
       "[PauliSumOp(SparsePauliOp(['III', 'ZII'],\n",
       "               coeffs=[ 0.5+0.j, -0.5+0.j]), coeff=1.0),\n",
       " PauliSumOp(SparsePauliOp(['III', 'IZI'],\n",
       "               coeffs=[ 0.5+0.j, -0.5+0.j]), coeff=1.0),\n",
       " PauliSumOp(SparsePauliOp(['III', 'IIZ'],\n",
       "               coeffs=[ 0.5+0.j, -0.5+0.j]), coeff=1.0)]"
      ]
     },
     "execution_count": 10,
     "metadata": {},
     "output_type": "execute_result"
    }
   ],
   "source": [
    "n_is = [\n",
    "    1 / 2 * ((I ^ num_sites) - ((I ^ i) ^ Z ^ (I ^ (num_sites - i - 1))))\n",
    "    for i in range(num_sites)\n",
    "    ]\n",
    "n_is"
   ]
  },
  {
   "cell_type": "code",
   "execution_count": 11,
   "id": "897ae460",
   "metadata": {},
   "outputs": [
    {
     "data": {
      "text/plain": [
       "[PauliSumOp(SparsePauliOp(['III', 'IIZ'],\n",
       "               coeffs=[ 0.5+0.j, -0.5+0.j]), coeff=1.0),\n",
       " PauliSumOp(SparsePauliOp(['III', 'IZI'],\n",
       "               coeffs=[ 0.5+0.j, -0.5+0.j]), coeff=1.0),\n",
       " PauliSumOp(SparsePauliOp(['III', 'ZII'],\n",
       "               coeffs=[ 0.5+0.j, -0.5+0.j]), coeff=1.0)]"
      ]
     },
     "execution_count": 11,
     "metadata": {},
     "output_type": "execute_result"
    }
   ],
   "source": [
    "n_op_JW = []\n",
    "for i in range(num_sites):\n",
    "    n_op = FermionicOp(\"+_\"+str(i), register_length = num_sites) @ FermionicOp(\"-_\"+str(i), register_length = num_sites)\n",
    "    jw_mapper = JordanWignerMapper\n",
    "    n_op_JW.append(JordanWignerMapper.map(jw_mapper, n_op))\n",
    "\n",
    "n_op_JW\n",
    "    "
   ]
  },
  {
   "cell_type": "code",
   "execution_count": 13,
   "id": "1c43dee9",
   "metadata": {},
   "outputs": [
    {
     "data": {
      "text/plain": [
       "[PauliSumOp(SparsePauliOp(['IZ'],\n",
       "               coeffs=[0.+1.j]), coeff=1.0)]"
      ]
     },
     "execution_count": 13,
     "metadata": {},
     "output_type": "execute_result"
    }
   ],
   "source": [
    "num_sites = 2\n",
    "site1 = 0\n",
    "site2 = 0\n",
    "gamma_corr_1 = FermionicOp(\"-_\"+str(site1), register_length = num_sites) + FermionicOp(\"+_\"+str(site1), register_length = num_sites)\n",
    "gamma_corr_2 = 1.0j * (FermionicOp(\"+_\"+str(site2), register_length = num_sites) - FermionicOp(\"-_\"+str(site2), register_length = num_sites))\n",
    "\n",
    "gamma_corr = gamma_corr_1 @ gamma_corr_2\n",
    "\n",
    "jw_mapper = JordanWignerMapper\n",
    "gamma_corr_JW = [JordanWignerMapper.map(jw_mapper, gamma_corr)]\n",
    "gamma_corr_JW"
   ]
  },
  {
   "cell_type": "code",
   "execution_count": 5,
   "id": "72493006",
   "metadata": {},
   "outputs": [
    {
     "data": {
      "text/plain": [
       "[PauliSumOp(SparsePauliOp(['II', 'IZ'],\n",
       "               coeffs=[ 0.5+0.j, -0.5+0.j]), coeff=1.0)]"
      ]
     },
     "execution_count": 5,
     "metadata": {},
     "output_type": "execute_result"
    }
   ],
   "source": [
    "num_sites = 2\n",
    "site1 = 0\n",
    "n_op = FermionicOp(\"+_\"+str(site1), register_length = num_sites) @ FermionicOp(\"-_\"+str(site1), register_length = num_sites)\n",
    "\n",
    "jw_mapper = JordanWignerMapper\n",
    "n_op_JW = [JordanWignerMapper.map(jw_mapper, n_op)]\n",
    "n_op_JW"
   ]
  },
  {
   "cell_type": "code",
   "execution_count": 17,
   "id": "12f2120e",
   "metadata": {},
   "outputs": [
    {
     "name": "stdout",
     "output_type": "stream",
     "text": [
      "[PauliSumOp(SparsePauliOp(['XY', 'YY', 'XX', 'YX'],\n",
      "              coeffs=[ 0.  -0.25j,  0.25+0.j  , -0.25+0.j  ,  0.  -0.25j]), coeff=1.0)]\n",
      "[PauliSumOp(SparsePauliOp(['XY', 'YY', 'XX', 'YX'],\n",
      "              coeffs=[ 0.  -0.25j, -0.25+0.j  ,  0.25+0.j  ,  0.  -0.25j]), coeff=1.0)]\n"
     ]
    }
   ],
   "source": [
    "def corr_op(num_sites, site1, site2):\n",
    "    corr=FermionicOp(\"-_\"+str(site1), register_length = num_sites)@FermionicOp(\"-_\"+str(site2), register_length = num_sites)\n",
    "\n",
    "    jw_mapper = JordanWignerMapper\n",
    "    corr_JW = [JordanWignerMapper.map(jw_mapper, corr)]\n",
    "\n",
    "    return corr_JW\n",
    "\n",
    "def corr_dagger_op(num_sites, site1, site2):\n",
    "    corr=FermionicOp(\"+_\"+str(site1), register_length = num_sites)@FermionicOp(\"+_\"+str(site2), register_length = num_sites)\n",
    "\n",
    "    jw_mapper = JordanWignerMapper\n",
    "    corr_JW = [JordanWignerMapper.map(jw_mapper, corr)]\n",
    "    \n",
    "    return corr_JW\n",
    "\n",
    "print(corr_op(2,0,1))\n",
    "print(corr_dagger_op(2,0,1))"
   ]
  },
  {
   "cell_type": "markdown",
   "id": "475a5bdf",
   "metadata": {},
   "source": [
    "### 2-site Kitaev chain"
   ]
  },
  {
   "cell_type": "code",
   "execution_count": 3,
   "id": "c8f717f9",
   "metadata": {},
   "outputs": [
    {
     "name": "stdout",
     "output_type": "stream",
     "text": [
      "Normal: 1.0 * II\n",
      "- 0.5 * IZ\n",
      "- 0.5 * ZI\n",
      "- 0.5 * YY\n",
      "+ 1.5 * XX\n",
      "Nambu: 1.0 * II\n",
      "- 0.5 * IZ\n",
      "- 0.5 * ZI\n",
      "- 0.5 * YY\n",
      "+ 1.5 * XX\n"
     ]
    }
   ],
   "source": [
    "def compute_H_secondquant_normal(eps, t, delta, num_sites):\n",
    "    second_quant_H = 0\n",
    "    for i in range(num_sites):\n",
    "        second_quant_H += eps[i] * ( FermionicOp(\"+_{}\".format(i)) @ FermionicOp(\"-_{}\".format(i)))\n",
    "\n",
    "    for i in range(num_sites-1):\n",
    "\n",
    "        second_quant_H += t * (FermionicOp(\"+_{}\".format(i)) @ FermionicOp(\"-_{}\".format(i + 1)))\n",
    "        second_quant_H += t * (FermionicOp(\"+_{}\".format(i+1)) @ FermionicOp(\"-_{}\".format(i)))\n",
    "\n",
    "        second_quant_H += delta * (FermionicOp(\"+_{}\".format(i)) @ FermionicOp(\"+_{}\".format(i + 1)))\n",
    "        second_quant_H += delta * (FermionicOp(\"-_{}\".format(i + 1)) @ FermionicOp(\"-_{}\".format(i)))\n",
    "\n",
    "    # Transform to Pauli Operators\n",
    "    jw_mapper = JordanWignerMapper\n",
    "    pauli_H = JordanWignerMapper.map(jw_mapper, second_quant_H)\n",
    "\n",
    "    return pauli_H\n",
    "\n",
    "def compute_H_secondquant_nambu(eps, t, delta, num_sites):\n",
    "    second_quant_H = 0\n",
    "    for i in range(num_sites):\n",
    "        second_quant_H += eps[i] / 2 * ( FermionicOp(\"+_{}\".format(i)) @ FermionicOp(\"-_{}\".format(i)) - FermionicOp(\"-_{}\".format(i)) @ FermionicOp(\"+_{}\".format(i)) )\n",
    "        second_quant_H += eps[i] / 2 * FermionicOp([(\"\", 1)], register_length=num_sites)\n",
    "        \n",
    "    for i in range(num_sites-1):\n",
    "\n",
    "        second_quant_H += t / 2 * (FermionicOp(\"+_{}\".format(i)) @ FermionicOp(\"-_{}\".format(i + 1)) - FermionicOp(\"-_{}\".format(i+1)) @ FermionicOp(\"+_{}\".format(i)))\n",
    "        second_quant_H += t / 2 * (FermionicOp(\"+_{}\".format(i+1)) @ FermionicOp(\"-_{}\".format(i)) - FermionicOp(\"-_{}\".format(i)) @ FermionicOp(\"+_{}\".format(i+1)) )\n",
    "\n",
    "        second_quant_H += delta / 2 * (FermionicOp(\"+_{}\".format(i)) @ FermionicOp(\"+_{}\".format(i + 1)) - FermionicOp(\"+_{}\".format(i+1)) @ FermionicOp(\"+_{}\".format(i)))\n",
    "        second_quant_H += delta / 2 * (FermionicOp(\"-_{}\".format(i + 1)) @ FermionicOp(\"-_{}\".format(i)) - FermionicOp(\"-_{}\".format(i)) @ FermionicOp(\"-_{}\".format(i+1)))\n",
    "\n",
    "    # Transform to Pauli Operators\n",
    "    jw_mapper = JordanWignerMapper\n",
    "    pauli_H = JordanWignerMapper.map(jw_mapper, second_quant_H)\n",
    "\n",
    "    return pauli_H\n",
    "\n",
    "num_sites = 2\n",
    "eps = np.ones(num_sites)\n",
    "t = 1\n",
    "delta = 2\n",
    "\n",
    "H_normal = compute_H_secondquant_normal(eps, t, delta, num_sites)\n",
    "print(f'Normal: {H_normal}')\n",
    "\n",
    "H_nambu = compute_H_secondquant_nambu(eps, t, delta, num_sites)\n",
    "print(f'Nambu: {H_nambu}')"
   ]
  },
  {
   "cell_type": "markdown",
   "id": "a941b7d8",
   "metadata": {},
   "source": [
    "## 3-site Kitaev chain"
   ]
  },
  {
   "cell_type": "code",
   "execution_count": 4,
   "id": "9dea253f",
   "metadata": {},
   "outputs": [
    {
     "name": "stdout",
     "output_type": "stream",
     "text": [
      "Normal: 1.5 * III\n",
      "- 0.5 * IIZ\n",
      "- 0.5 * IZI\n",
      "- 0.5 * ZII\n",
      "- 0.5 * IYY\n",
      "+ 1.5 * IXX\n",
      "- 0.5 * YYI\n",
      "+ 1.5 * XXI\n",
      "Nambu: 1.5 * III\n",
      "- 0.5 * IIZ\n",
      "- 0.5 * IZI\n",
      "- 0.5 * ZII\n",
      "- 0.5 * IYY\n",
      "+ 1.5 * IXX\n",
      "- 0.5 * YYI\n",
      "+ 1.5 * XXI\n"
     ]
    }
   ],
   "source": [
    "def compute_H_secondquant_normal(eps, t, delta, num_sites):\n",
    "    second_quant_H = 0\n",
    "    for i in range(num_sites):\n",
    "        second_quant_H += eps[i] * ( FermionicOp(\"+_{}\".format(i)) @ FermionicOp(\"-_{}\".format(i)))\n",
    "\n",
    "    for i in range(num_sites-1):\n",
    "\n",
    "        second_quant_H += t * (FermionicOp(\"+_{}\".format(i)) @ FermionicOp(\"-_{}\".format(i + 1)))\n",
    "        second_quant_H += t * (FermionicOp(\"+_{}\".format(i+1)) @ FermionicOp(\"-_{}\".format(i)))\n",
    "\n",
    "        second_quant_H += delta * (FermionicOp(\"+_{}\".format(i)) @ FermionicOp(\"+_{}\".format(i + 1)))\n",
    "        second_quant_H += delta * (FermionicOp(\"-_{}\".format(i + 1)) @ FermionicOp(\"-_{}\".format(i)))\n",
    "\n",
    "    # Transform to Pauli Operators\n",
    "    jw_mapper = JordanWignerMapper\n",
    "    pauli_H = JordanWignerMapper.map(jw_mapper, second_quant_H)\n",
    "\n",
    "    return pauli_H\n",
    "\n",
    "def compute_H_secondquant_nambu(eps, t, delta, num_sites):\n",
    "    second_quant_H = 0\n",
    "    for i in range(num_sites):\n",
    "        second_quant_H += eps[i] / 2 * ( FermionicOp(\"+_{}\".format(i)) @ FermionicOp(\"-_{}\".format(i)) - FermionicOp(\"-_{}\".format(i)) @ FermionicOp(\"+_{}\".format(i)) )\n",
    "        second_quant_H += eps[i] / 2 * FermionicOp([(\"\", 1)], register_length=num_sites)\n",
    "        \n",
    "    for i in range(num_sites-1):\n",
    "\n",
    "        second_quant_H += t / 2 * (FermionicOp(\"+_{}\".format(i)) @ FermionicOp(\"-_{}\".format(i + 1)) - FermionicOp(\"-_{}\".format(i+1)) @ FermionicOp(\"+_{}\".format(i)))\n",
    "        second_quant_H += t / 2 * (FermionicOp(\"+_{}\".format(i+1)) @ FermionicOp(\"-_{}\".format(i)) - FermionicOp(\"-_{}\".format(i)) @ FermionicOp(\"+_{}\".format(i+1)) )\n",
    "\n",
    "        second_quant_H += delta / 2 * (FermionicOp(\"+_{}\".format(i)) @ FermionicOp(\"+_{}\".format(i + 1)) - FermionicOp(\"+_{}\".format(i+1)) @ FermionicOp(\"+_{}\".format(i)))\n",
    "        second_quant_H += delta / 2 * (FermionicOp(\"-_{}\".format(i + 1)) @ FermionicOp(\"-_{}\".format(i)) - FermionicOp(\"-_{}\".format(i)) @ FermionicOp(\"-_{}\".format(i+1)))\n",
    "\n",
    "    # Transform to Pauli Operators\n",
    "    jw_mapper = JordanWignerMapper\n",
    "    pauli_H = JordanWignerMapper.map(jw_mapper, second_quant_H)\n",
    "\n",
    "    return pauli_H\n",
    "\n",
    "num_sites = 3\n",
    "eps = np.ones(num_sites)\n",
    "t = 1\n",
    "delta = 2\n",
    "\n",
    "H_normal = compute_H_secondquant_normal(eps, t, delta, num_sites)\n",
    "print(f'Normal: {H_normal}')\n",
    "\n",
    "H_nambu = compute_H_secondquant_nambu(eps, t, delta, num_sites)\n",
    "print(f'Nambu: {H_nambu}')"
   ]
  },
  {
   "cell_type": "markdown",
   "id": "d1ac8590",
   "metadata": {},
   "source": [
    "### Josephson Junction"
   ]
  },
  {
   "cell_type": "code",
   "execution_count": 5,
   "id": "d55fa20f",
   "metadata": {},
   "outputs": [
    {
     "name": "stdout",
     "output_type": "stream",
     "text": [
      "Normal: 2.0 * IIII\n",
      "- 0.5 * IIIZ\n",
      "- 0.5 * IIZI\n",
      "+ 1.0 * IIYY\n",
      "+ 1.25 * YYII\n",
      "+ 0.25 * XXII\n",
      "- 0.5 * IZII\n",
      "- 0.5 * ZIII\n",
      "Nambu: 2.0 * IIII\n",
      "- 0.5 * IIIZ\n",
      "- 0.5 * IIZI\n",
      "+ 1.0 * IIYY\n",
      "- 0.5 * IZII\n",
      "- 0.5 * ZIII\n",
      "+ 1.0 * YYII\n",
      "Hardforce: SummedOp([\n",
      "  0.5 * (\n",
      "    1.0 * IIII\n",
      "    - 1.0 * IIIZ\n",
      "  ),\n",
      "  0.5 * (\n",
      "    1.0 * IIII\n",
      "    - 1.0 * IIZI\n",
      "  ),\n",
      "  0.5 * (\n",
      "    1.0 * IIII\n",
      "    - 1.0 * IZII\n",
      "  ),\n",
      "  0.5 * (\n",
      "    1.0 * IIII\n",
      "    - 1.0 * ZIII\n",
      "  ),\n",
      "  0.25 * (\n",
      "    1.0 * IXXI\n",
      "    + 1.0 * IYYI\n",
      "  ),\n",
      "  0.5 * (\n",
      "    1.0 * XXII\n",
      "    + 1.0 * YYII\n",
      "  ),\n",
      "  0.4992485749319319 * (\n",
      "    1.0 * IIXX\n",
      "    - 1.0 * IIYY\n",
      "  ),\n",
      "  -0.027401832574394765 * (\n",
      "    1.0 * IIXX\n",
      "    + 1.0 * IIYY\n",
      "  ),\n",
      "  0.5 * (\n",
      "    1.0 * IIXX\n",
      "    + 1.0 * IIYY\n",
      "  ),\n",
      "  0.4992485749319319 * (\n",
      "    1.0 * XXII\n",
      "    - 1.0 * YYII\n",
      "  ),\n",
      "  0.027401832574394765 * (\n",
      "    1.0 * XXII\n",
      "    + 1.0 * YYII\n",
      "  )\n",
      "])\n"
     ]
    }
   ],
   "source": [
    "def compute_H_secondquant_normal(eps, tc, t, delta):\n",
    "    second_quant_H = 0\n",
    "    second_quant_H += eps[0] * ( FermionicOp(\"+_{}\".format(0)) @ FermionicOp(\"-_{}\".format(0)))\n",
    "    second_quant_H += eps[1] * ( FermionicOp(\"+_{}\".format(1)) @ FermionicOp(\"-_{}\".format(1)))    \n",
    "    second_quant_H += t[0] * (FermionicOp(\"+_{}\".format(0)) @ FermionicOp(\"-_{}\".format(1)))\n",
    "    second_quant_H += np.conjugate(t[0]) * (FermionicOp(\"+_{}\".format(1)) @ FermionicOp(\"-_{}\".format(0)))\n",
    "    second_quant_H += delta[0] * (FermionicOp(\"+_{}\".format(0)) @ FermionicOp(\"+_{}\".format(1)))\n",
    "    second_quant_H += np.conjugate(delta[0]) * (FermionicOp(\"-_{}\".format(1)) @ FermionicOp(\"-_{}\".format(0)))\n",
    "\n",
    "    second_quant_H += tc * (FermionicOp(\"+_{}\".format(2)) @ FermionicOp(\"-_{}\".format(3)))\n",
    "    second_quant_H += tc * (FermionicOp(\"+_{}\".format(3)) @ FermionicOp(\"-_{}\".format(2)))\n",
    "\n",
    "    second_quant_H += eps[2] * ( FermionicOp(\"+_{}\".format(2)) @ FermionicOp(\"-_{}\".format(2)))\n",
    "    second_quant_H += eps[3] * ( FermionicOp(\"+_{}\".format(3)) @ FermionicOp(\"-_{}\".format(3)))\n",
    "    second_quant_H += t[1] * (FermionicOp(\"+_{}\".format(2)) @ FermionicOp(\"-_{}\".format(3)))\n",
    "    second_quant_H += np.conjugate(t[1]) * (FermionicOp(\"+_{}\".format(3)) @ FermionicOp(\"-_{}\".format(2)))\n",
    "    second_quant_H += delta[1] * (FermionicOp(\"+_{}\".format(2)) @ FermionicOp(\"+_{}\".format(3)))\n",
    "    second_quant_H += np.conjugate(delta[1]) * (FermionicOp(\"-_{}\".format(3)) @ FermionicOp(\"-_{}\".format(2)))\n",
    "\n",
    "    # Transform to Pauli Operators\n",
    "    jw_mapper = JordanWignerMapper\n",
    "    pauli_H = JordanWignerMapper.map(jw_mapper, second_quant_H)\n",
    "\n",
    "    return pauli_H\n",
    "\n",
    "def compute_H_secondquant_nambu(eps, tc,t, delta, num_sites):\n",
    "    second_quant_H = 0\n",
    "    # Firt couple\n",
    "    second_quant_H += eps[0] / 2 * ( FermionicOp(\"+_{}\".format(0)) @ FermionicOp(\"-_{}\".format(0)) - FermionicOp(\"-_{}\".format(0)) @ FermionicOp(\"+_{}\".format(0)))\n",
    "    second_quant_H += eps[1] / 2 * ( FermionicOp(\"+_{}\".format(1)) @ FermionicOp(\"-_{}\".format(1)) - FermionicOp(\"-_{}\".format(1)) @ FermionicOp(\"+_{}\".format(1)))\n",
    "    second_quant_H += (eps[0]+eps[1]) / 2 * FermionicOp([(\"\", 1)], register_length=num_sites)\n",
    "    \n",
    "    second_quant_H += t[0] / 2 * (FermionicOp(\"+_{}\".format(0)) @ FermionicOp(\"-_{}\".format(1)) - FermionicOp(\"-_{}\".format(1)) @ FermionicOp(\"+_{}\".format(0)))\n",
    "    second_quant_H += np.conjugate(t[0]) / 2 * (FermionicOp(\"+_{}\".format(1)) @ FermionicOp(\"-_{}\".format(0))  - FermionicOp(\"-_{}\".format(0)) @ FermionicOp(\"+_{}\".format(1)) )\n",
    "    \n",
    "    second_quant_H += delta[0] / 2 * (FermionicOp(\"+_{}\".format(0)) @ FermionicOp(\"+_{}\".format(1))  - FermionicOp(\"+_{}\".format(1)) @ FermionicOp(\"+_{}\".format(0)))\n",
    "    second_quant_H += np.conjugate(delta[0]) / 2 * (FermionicOp(\"-_{}\".format(1)) @ FermionicOp(\"-_{}\".format(0))  - FermionicOp(\"-_{}\".format(0)) @ FermionicOp(\"-_{}\".format(1)))\n",
    "    # Bridge\n",
    "    # second_quant_H += tc / 2 * (FermionicOp(\"+_{}\".format(2)) @ FermionicOp(\"-_{}\".format(3))  - FermionicOp(\"-_{}\".format(3)) @ FermionicOp(\"+_{}\".format(2)))\n",
    "    # second_quant_H += tc / 2 * (FermionicOp(\"+_{}\".format(3)) @ FermionicOp(\"-_{}\".format(2))  - FermionicOp(\"-_{}\".format(2)) @ FermionicOp(\"+_{}\".format(3)))\n",
    "\n",
    "    # Second couple\n",
    "    second_quant_H += eps[2] / 2 * ( FermionicOp(\"+_{}\".format(2)) @ FermionicOp(\"-_{}\".format(2)) - FermionicOp(\"-_{}\".format(2)) @ FermionicOp(\"+_{}\".format(2)))\n",
    "    second_quant_H += eps[3] / 2 * ( FermionicOp(\"+_{}\".format(3)) @ FermionicOp(\"-_{}\".format(3)) - FermionicOp(\"-_{}\".format(3)) @ FermionicOp(\"+_{}\".format(3)))\n",
    "    second_quant_H += (eps[2]+eps[3]) / 2 * FermionicOp([(\"\", 1)], register_length=num_sites)\n",
    "    \n",
    "    second_quant_H += t[1] / 2 * (FermionicOp(\"+_{}\".format(2)) @ FermionicOp(\"-_{}\".format(3)) - FermionicOp(\"-_{}\".format(3)) @ FermionicOp(\"+_{}\".format(2)))\n",
    "    second_quant_H += np.conjugate(t[1]) / 2 * (FermionicOp(\"+_{}\".format(3)) @ FermionicOp(\"-_{}\".format(2))  - FermionicOp(\"-_{}\".format(2)) @ FermionicOp(\"+_{}\".format(3)) )\n",
    "    \n",
    "    second_quant_H += delta[1] / 2 * (FermionicOp(\"+_{}\".format(2)) @ FermionicOp(\"+_{}\".format(3))  - FermionicOp(\"+_{}\".format(3)) @ FermionicOp(\"+_{}\".format(2)))\n",
    "    second_quant_H += np.conjugate(delta[1]) / 2 * (FermionicOp(\"-_{}\".format(3)) @ FermionicOp(\"-_{}\".format(2))  - FermionicOp(\"-_{}\".format(2)) @ FermionicOp(\"-_{}\".format(3)))\n",
    "    \n",
    "    # Transform to Pauli Operators\n",
    "    jw_mapper = JordanWignerMapper\n",
    "    pauli_H = JordanWignerMapper.map(jw_mapper, second_quant_H)\n",
    "\n",
    "    return pauli_H\n",
    "\n",
    "def compute_H(eps, t, delta, tc, phiL, phiR, num_sites):\n",
    "    H = 0\n",
    "    # On-site terms\n",
    "    for i in range(num_sites):\n",
    "        H += eps[i] / 2 * ((I ^ num_sites) - ((I ^ (num_sites - i - 1)) ^ Z ^ (I ^ i)))\n",
    "\n",
    "    # Coupling term (qubits 2 and 1)\n",
    "    H += tc / 2 * ((I ^ X ^ X ^ I) + (I ^ Y ^ Y ^ I))\n",
    "\n",
    "    if np.array_equal(t,delta):\n",
    "        H += 1 / 2 * np.cos(phiL*np.pi/180)*((I ^ I ^ X ^ X))\n",
    "        H += 1 / 2 * np.cos(phiR*np.pi/180)*((X ^ X ^ I ^ I))\n",
    "    else:\n",
    "        #Left term\n",
    "        H += t[0] / 2 * ((X ^ X ^ I ^ I) + (Y ^ Y ^ I ^ I))\n",
    "        H += 1 / 2 * np.cos(phiL*np.pi/180)*((I ^ I ^ X ^ X) - (I ^ I ^ Y ^ Y))\n",
    "        H += 1 / 2 * np.sin(phiL*np.pi/180)*((I ^ I ^ X ^ X) + (I ^ I ^ Y ^ Y))\n",
    "\n",
    "        H += t[1] / 2 * ((I ^ I ^ X ^ X) + (I ^ I ^ Y ^ Y))\n",
    "        H += 1 / 2 * np.cos(phiR*np.pi/180)*((X ^ X ^ I ^ I) - (Y ^ Y ^ I ^ I))\n",
    "        H += 1 / 2 * np.sin(phiR*np.pi/180)*((X ^ X ^ I ^ I) + (Y ^ Y ^ I ^ I))\n",
    "    \n",
    "\n",
    "    return H\n",
    "\n",
    "\n",
    "\n",
    "\n",
    "# Select specific t and t_c values\n",
    "\n",
    "num_sites = 4\n",
    "tc = 0.5\n",
    "eps = np.ones(num_sites)\n",
    "phi = 2*np.pi\n",
    "phiL = -phi / 2\n",
    "phiR = phi / 2\n",
    "delta = np.array([np.exp(1j * phiL), np.exp(1j * phiR)])\n",
    "t = np.ones(2)\n",
    "\n",
    "H_normal = compute_H_secondquant_normal(eps, tc, t, delta)\n",
    "print(f'Normal: {H_normal}')\n",
    "\n",
    "H_nambu = compute_H_secondquant_nambu(eps, tc, t, delta, num_sites)\n",
    "print(f'Nambu: {H_nambu}')\n",
    "\n",
    "# Parameterized hopping strengths\n",
    "eps_param = ParameterVector(\"ε\", num_sites)\n",
    "t_param = ParameterVector(\"t\",2)\n",
    "tc_param = Parameter(\"tc\")\n",
    "delta_param = ParameterVector(\"Δ\",2)\n",
    "phiL_param = Parameter(\"phiL\")\n",
    "phiR_param = Parameter(\"phiR\")\n",
    "\n",
    "H_param = compute_H(eps_param, t_param, delta_param, tc_param, phiL_param, phiR_param, num_sites)\n",
    "H = H_param.bind_parameters({eps_param: eps, t_param: t, tc_param: tc, delta_param: delta, phiL_param:phiL, phiR_param:phiR})\n",
    "print(f'Hardforce: {H}')"
   ]
  },
  {
   "cell_type": "code",
   "execution_count": 24,
   "id": "5a3e2d4b",
   "metadata": {},
   "outputs": [
    {
     "name": "stdout",
     "output_type": "stream",
     "text": [
      "\\documentclass[border=2px]{standalone}\n",
      "\n",
      "\\usepackage[braket, qm]{qcircuit}\n",
      "\\usepackage{graphicx}\n",
      "\n",
      "\\begin{document}\n",
      "\\scalebox{1.0}{\n",
      "\\Qcircuit @C=1.0em @R=0.2em @!R { \\\\\n",
      "\t \t\\nghost{{q}_{0} :  } & \\lstick{{q}_{0} :  } & \\gate{\\mathrm{R_X}\\,(\\mathrm{\\frac{\\pi}{2}})} & \\qw & \\qw & \\qw & \\qw & \\qw & \\qw & \\qw & \\qw & \\qw & \\qw & \\qw & \\qw & \\qw & \\qw & \\qw & \\ctrl{1} & \\qw & \\ctrl{1} & \\gate{\\mathrm{R_X}\\,(\\mathrm{\\frac{-\\pi}{2}})} & \\qw & \\qw\\\\\n",
      "\t \t\\nghost{{q}_{1} :  } & \\lstick{{q}_{1} :  } & \\gate{\\mathrm{H}} & \\qw & \\qw & \\qw & \\qw & \\qw & \\ctrl{1} & \\qw & \\ctrl{1} & \\gate{\\mathrm{H}} & \\gate{\\mathrm{R_X}\\,(\\mathrm{\\frac{\\pi}{2}})} & \\ctrl{1} & \\qw & \\ctrl{1} & \\gate{\\mathrm{R_X}\\,(\\mathrm{\\frac{-\\pi}{2}})} & \\gate{\\mathrm{R_X}\\,(\\mathrm{\\frac{\\pi}{2}})} & \\targ & \\gate{\\mathrm{R_Z}\\,(\\mathrm{2\\pi})} & \\targ & \\gate{\\mathrm{R_X}\\,(\\mathrm{\\frac{-\\pi}{2}})} & \\qw & \\qw\\\\\n",
      "\t \t\\nghost{{q}_{2} :  } & \\lstick{{q}_{2} :  } & \\gate{\\mathrm{R_X}\\,(\\mathrm{\\frac{\\pi}{2}})} & \\ctrl{1} & \\qw & \\ctrl{1} & \\gate{\\mathrm{R_X}\\,(\\mathrm{\\frac{-\\pi}{2}})} & \\gate{\\mathrm{H}} & \\targ & \\gate{\\mathrm{R_Z}\\,(\\mathrm{\\frac{\\pi}{2}})} & \\targ & \\gate{\\mathrm{H}} & \\gate{\\mathrm{R_X}\\,(\\mathrm{\\frac{\\pi}{2}})} & \\targ & \\gate{\\mathrm{R_Z}\\,(\\mathrm{\\frac{\\pi}{2}})} & \\targ & \\gate{\\mathrm{R_X}\\,(\\mathrm{\\frac{-\\pi}{2}})} & \\qw & \\qw & \\qw & \\qw & \\qw & \\qw & \\qw\\\\\n",
      "\t \t\\nghost{{q}_{3} :  } & \\lstick{{q}_{3} :  } & \\gate{\\mathrm{R_X}\\,(\\mathrm{\\frac{\\pi}{2}})} & \\targ & \\gate{\\mathrm{R_Z}\\,(\\mathrm{2\\pi})} & \\targ & \\gate{\\mathrm{R_X}\\,(\\mathrm{\\frac{-\\pi}{2}})} & \\qw & \\qw & \\qw & \\qw & \\qw & \\qw & \\qw & \\qw & \\qw & \\qw & \\qw & \\qw & \\qw & \\qw & \\qw & \\qw & \\qw\\\\\n",
      "\\\\ }}\n",
      "\\end{document}\n"
     ]
    },
    {
     "data": {
      "image/png": "[encoded data removed]",
      "text/plain": [
       "<Figure size 1792.5x367.889 with 1 Axes>"
      ]
     },
     "execution_count": 24,
     "metadata": {},
     "output_type": "execute_result"
    }
   ],
   "source": [
    "def compute_H_secondquant_normal(eps, tc, t, delta):\n",
    "    second_quant_H = 0\n",
    "    second_quant_H += eps * ( FermionicOp(\"+_{}\".format(0)) @ FermionicOp(\"-_{}\".format(0)))\n",
    "    second_quant_H += t * (FermionicOp(\"+_{}\".format(0)) @ FermionicOp(\"-_{}\".format(1)))\n",
    "    second_quant_H += np.conjugate(t) * (FermionicOp(\"+_{}\".format(1)) @ FermionicOp(\"-_{}\".format(0)))\n",
    "    second_quant_H += delta[0] * (FermionicOp(\"+_{}\".format(0)) @ FermionicOp(\"+_{}\".format(1)))\n",
    "    second_quant_H += np.conjugate(delta[0]) * (FermionicOp(\"-_{}\".format(1)) @ FermionicOp(\"-_{}\".format(0)))\n",
    "    second_quant_H += eps * ( FermionicOp(\"+_{}\".format(1)) @ FermionicOp(\"-_{}\".format(1)))    \n",
    "\n",
    "    second_quant_H += tc * (FermionicOp(\"+_{}\".format(1)) @ FermionicOp(\"-_{}\".format(2)))\n",
    "    second_quant_H += tc * (FermionicOp(\"+_{}\".format(2)) @ FermionicOp(\"-_{}\".format(1)))\n",
    "\n",
    "    second_quant_H += eps * ( FermionicOp(\"+_{}\".format(2)) @ FermionicOp(\"-_{}\".format(2)))\n",
    "    second_quant_H += t * (FermionicOp(\"+_{}\".format(2)) @ FermionicOp(\"-_{}\".format(3)))\n",
    "    second_quant_H += np.conjugate(t) * (FermionicOp(\"+_{}\".format(3)) @ FermionicOp(\"-_{}\".format(2)))\n",
    "    second_quant_H += delta[1] * (FermionicOp(\"+_{}\".format(2)) @ FermionicOp(\"+_{}\".format(3)))\n",
    "    second_quant_H += np.conjugate(delta[1]) * (FermionicOp(\"-_{}\".format(3)) @ FermionicOp(\"-_{}\".format(2)))\n",
    "    second_quant_H += eps * ( FermionicOp(\"+_{}\".format(3)) @ FermionicOp(\"-_{}\".format(3)))\n",
    "\n",
    "    # Transform to Pauli Operators\n",
    "    jw_mapper = JordanWignerMapper\n",
    "    pauli_H = JordanWignerMapper.map(jw_mapper, second_quant_H)\n",
    "\n",
    "    return pauli_H\n",
    "\n",
    "num_sites = 4\n",
    "tc = 0.5\n",
    "eps = 0\n",
    "t = 1\n",
    "phiR = phi / 2\n",
    "delta_coff= 1\n",
    "\n",
    "phi = 2*np.pi\n",
    "phiL = -phi / 2\n",
    "delta = np.array([delta_coff*np.exp(1j * phiL), delta_coff*np.exp(1j * phiR)])\n",
    "\n",
    "\n",
    "\n",
    "\n",
    "from qiskit.opflow import PauliTrotterEvolution\n",
    "from functions import compute_U_trot\n",
    "def convert_U_trot_to_qc(U_trot):\n",
    "    qc_trot = PauliTrotterEvolution().convert(U_trot)\n",
    "    return (\n",
    "        qc_trot.to_circuit().decompose().decompose()\n",
    "    )  # add decompose methods so gates are not abstracted unitary blocks\n",
    "\n",
    "H = compute_H_secondquant_normal(eps, tc, t, delta)\n",
    "U1 = compute_U_trot(H, np.pi, 1)\n",
    "qc = convert_U_trot_to_qc(U1)\n",
    "\n",
    "latex_code = qc.draw(\"latex_source\")\n",
    "print(latex_code)\n",
    "with open(\"circuits/JJ-circuit.tex\", \"w\") as f:\n",
    "    f.write(latex_code)\n",
    "qc.draw(\"mpl\")"
   ]
  }
 ],
 "metadata": {
  "kernelspec": {
   "display_name": "article_mzm",
   "language": "python",
   "name": "python3"
  },
  "language_info": {
   "codemirror_mode": {
    "name": "ipython",
    "version": 3
   },
   "file_extension": ".py",
   "mimetype": "text/x-python",
   "name": "python",
   "nbconvert_exporter": "python",
   "pygments_lexer": "ipython3",
   "version": "3.8.18"
  }
 },
 "nbformat": 4,
 "nbformat_minor": 5
}
